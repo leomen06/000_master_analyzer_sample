{
 "cells": [
  {
   "cell_type": "markdown",
   "id": "ee2a2961",
   "metadata": {},
   "source": [
    "### <a name=\"index_00\"></a>Master_Analyzer Index\n",
    "\n",
    "[A fast solution to your Quality Data Analysis](#mark_00)\n",
    "\n",
    "[Features and Capabilities Overview](#mark_01)\n",
    "\n",
    "   _ [Capability to Read `\".csv\", \".rda\", \".json\" (structured and unstructured), \".xport\", and \".xlsx\"`](#mark_01.0)\n",
    "   \n",
    "   _ [Special Capability to Detect **Nested JSON and LISTS**](#mark_01.1)"
   ]
  },
  {
   "cell_type": "markdown",
   "id": "79637fe6",
   "metadata": {},
   "source": [
    "### <a name=\"mark_00\"></a>A fast solution to your Quality Data Analysis [Index](#index_00)\n",
    "\n",
    "**Master_Analyzer** was developed with the best Quality Concepts adding the Performance Concepts, to analyze your data in each step of your ETL/ELT process, this idea started in 2024 February, and as a QA Engineer and Data Engineer, after many years of working with different projects I could see this new necessity in the data flow. \n",
    "\n",
    "**Master_Analyzer** pretends to be an \"All In One\" tool, although he is currently a baby, he is growing fast and will offer you new features and capabilities."
   ]
  },
  {
   "cell_type": "markdown",
   "id": "17108070",
   "metadata": {},
   "source": [
    "### <a name=\"mark_01\"></a> Features and Capabilities Overview [Index](#index_00)\n",
    "\n",
    "**Master_Analyzer** can detectec and show you the following features:\n",
    "\n",
    "_ <a name=\"mark_01.0\"></a>**Capability to Read** the following format **\".csv\", \".rda\", \".json\" (structured and unstructured), \".xport\", and \".xlsx\"** showing the main features of your interest to check a preview in an easy summary. [Index](#index_00)\n",
    "\n",
    "![](./sources/img_00.png)\n",
    "\n",
    "_ <a name=\"mark_01.1\"></a>**Special Capability to Detect Nested JSON and LISTS**, **Master_Analyzer** can detect those complex unstructured schemas and raise a warning. [Index](#index_00)\n",
    "\n",
    "    _ **\"Nested JSON detected\"** case, can resolve it for you.\n",
    "    _ **\"lists detected\"** case, will display the warning to be resolved according to your business rules.\n",
    "\n",
    "Detecting those complex unstructured schemas:\n",
    "\n"
   ]
  },
  {
   "cell_type": "code",
   "execution_count": null,
   "id": "345b29c6",
   "metadata": {},
   "outputs": [],
   "source": []
  },
  {
   "cell_type": "code",
   "execution_count": null,
   "id": "be3f1852",
   "metadata": {},
   "outputs": [],
   "source": []
  },
  {
   "cell_type": "code",
   "execution_count": null,
   "id": "ad678b2e",
   "metadata": {},
   "outputs": [],
   "source": []
  },
  {
   "cell_type": "code",
   "execution_count": null,
   "id": "274f09b8",
   "metadata": {},
   "outputs": [],
   "source": []
  },
  {
   "cell_type": "code",
   "execution_count": null,
   "id": "b2b2f05a",
   "metadata": {},
   "outputs": [],
   "source": []
  },
  {
   "cell_type": "code",
   "execution_count": null,
   "id": "3b511eef",
   "metadata": {},
   "outputs": [],
   "source": []
  },
  {
   "cell_type": "code",
   "execution_count": null,
   "id": "f545176d",
   "metadata": {},
   "outputs": [],
   "source": []
  },
  {
   "cell_type": "code",
   "execution_count": null,
   "id": "24a3d495",
   "metadata": {},
   "outputs": [],
   "source": []
  },
  {
   "cell_type": "code",
   "execution_count": null,
   "id": "14d49c42",
   "metadata": {},
   "outputs": [],
   "source": []
  }
 ],
 "metadata": {
  "kernelspec": {
   "display_name": "jupyter_kernel_01",
   "language": "python",
   "name": "data_trans_env"
  },
  "language_info": {
   "codemirror_mode": {
    "name": "ipython",
    "version": 3
   },
   "file_extension": ".py",
   "mimetype": "text/x-python",
   "name": "python",
   "nbconvert_exporter": "python",
   "pygments_lexer": "ipython3",
   "version": "3.11.4"
  }
 },
 "nbformat": 4,
 "nbformat_minor": 5
}
